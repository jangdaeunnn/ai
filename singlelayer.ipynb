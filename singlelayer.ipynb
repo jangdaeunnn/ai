{
  "nbformat": 4,
  "nbformat_minor": 0,
  "metadata": {
    "colab": {
      "provenance": []
    },
    "kernelspec": {
      "name": "python3",
      "display_name": "Python 3"
    },
    "language_info": {
      "name": "python"
    }
  },
  "cells": [
    {
      "cell_type": "code",
      "source": [
        "import numpy as np"
      ],
      "metadata": {
        "id": "MXC8MUJii7__"
      },
      "execution_count": 13,
      "outputs": []
    },
    {
      "cell_type": "code",
      "execution_count": 17,
      "metadata": {
        "id": "_mx3XbP6eCe5"
      },
      "outputs": [],
      "source": [
        "class SingleLayer:\n",
        "  def __init__(self):\n",
        "    self.w=None\n",
        "    self.b=None\n",
        "    self.losses=[] # 손실함수의 결과값을 저장할 리스트\n",
        "\n",
        "  def forpass(self,x):\n",
        "    z=np.sum(x*self.w)+self.b\n",
        "    return z\n",
        "\n",
        "  def backprop(self,x,err):\n",
        "    w_grad=x*err\n",
        "    b_grad=1.0*err\n",
        "    return w_grad, b_grad\n",
        "\n",
        "  def add_bias(self,x):\n",
        "    return np.c_[np.ones((x.shape[0],1)),x]\n",
        "\n",
        "  def activation(self,z):\n",
        "    a=1/(1+np.exp(-z))\n",
        "    return a\n",
        "\n",
        "  def fit(self,x,y,epochs=100):\n",
        "    self.w=np.ones(x.shape[1])\n",
        "    self.b=0\n",
        "    for i in range(epochs):\n",
        "      loss=0\n",
        "      indexes=np.random.permutation(np.arange(len(x)))\n",
        "      for i in indexes:\n",
        "        z=self.forpass(x[i])\n",
        "        a=self.activation(z)\n",
        "        err=y[i]-a\n",
        "        w_grad, b_grad=self.backprop(x[i],err)\n",
        "        self.w+=w_grad\n",
        "        self.b+=b_grad\n",
        "        a=np.clip(a,1e-10, 1-1e-10)\n",
        "        loss+=-(y[i]*np.log(a)+(1-y[i])*np.log(1-a))\n",
        "      self.losses.append(loss/len(y))\n",
        "\n",
        "  def predict(self,x):\n",
        "    z=[self.forpass(x_i) for x_i in x]\n",
        "    return np.array(z)>0\n",
        "\n",
        "  def score(self,x,y):\n",
        "    return np.mean(self.predict(x)==y)"
      ]
    },
    {
      "cell_type": "code",
      "source": [
        "from sklearn.datasets import load_breast_cancer\n",
        "cancer=load_breast_cancer()"
      ],
      "metadata": {
        "id": "Pt8-BrL2hjYd"
      },
      "execution_count": 18,
      "outputs": []
    },
    {
      "cell_type": "code",
      "source": [
        "cancer.data.shape,cancer.target.shape"
      ],
      "metadata": {
        "colab": {
          "base_uri": "https://localhost:8080/"
        },
        "id": "RV-1wudBhvl6",
        "outputId": "0539bc32-9e2d-48c0-a840-91a1294aa80d"
      },
      "execution_count": 19,
      "outputs": [
        {
          "output_type": "execute_result",
          "data": {
            "text/plain": [
              "((569, 30), (569,))"
            ]
          },
          "metadata": {},
          "execution_count": 19
        }
      ]
    },
    {
      "cell_type": "code",
      "source": [
        "from sklearn.model_selection import train_test_split"
      ],
      "metadata": {
        "id": "hoTyki15h06_"
      },
      "execution_count": 20,
      "outputs": []
    },
    {
      "cell_type": "code",
      "source": [
        "x=cancer.data\n",
        "y=cancer.target\n",
        "x_train,x_test,y_train,y_test=train_test_split(x,y,stratify=y,random_state=42,test_size=0.2)"
      ],
      "metadata": {
        "id": "V11KH2m9iLL4"
      },
      "execution_count": 21,
      "outputs": []
    },
    {
      "cell_type": "code",
      "source": [
        "layer=SingleLayer()\n",
        "layer.fit(x_train,y_train)"
      ],
      "metadata": {
        "colab": {
          "base_uri": "https://localhost:8080/"
        },
        "id": "xDOd-HqOigtI",
        "outputId": "bdc02cd9-6459-4b39-a41d-11c621ddb961"
      },
      "execution_count": 22,
      "outputs": [
        {
          "output_type": "stream",
          "name": "stderr",
          "text": [
            "<ipython-input-17-7b6c2cc82f1e>:20: RuntimeWarning: overflow encountered in exp\n",
            "  a=1/(1+np.exp(-z))\n"
          ]
        }
      ]
    },
    {
      "cell_type": "code",
      "source": [
        "layer.score(x_test,y_test)"
      ],
      "metadata": {
        "colab": {
          "base_uri": "https://localhost:8080/"
        },
        "id": "4HS4Lm1vipg3",
        "outputId": "be866c9f-839b-4983-d9f6-e38ab9c9b6b4"
      },
      "execution_count": 27,
      "outputs": [
        {
          "output_type": "execute_result",
          "data": {
            "text/plain": [
              "0.9122807017543859"
            ]
          },
          "metadata": {},
          "execution_count": 27
        }
      ]
    },
    {
      "cell_type": "code",
      "source": [
        "import matplotlib.pyplot as plt"
      ],
      "metadata": {
        "id": "_utGCnWtkaoQ"
      },
      "execution_count": 28,
      "outputs": []
    },
    {
      "cell_type": "code",
      "source": [
        "plt.plot(layer.losses)\n",
        "plt.xlabel('epoch')\n",
        "plt.ylabel('loss')"
      ],
      "metadata": {
        "colab": {
          "base_uri": "https://localhost:8080/",
          "height": 467
        },
        "id": "zHrskDDJj2X1",
        "outputId": "0b7a0d3a-2b8f-4568-d1d0-52a67f858c69"
      },
      "execution_count": 29,
      "outputs": [
        {
          "output_type": "execute_result",
          "data": {
            "text/plain": [
              "Text(0, 0.5, 'loss')"
            ]
          },
          "metadata": {},
          "execution_count": 29
        },
        {
          "output_type": "display_data",
          "data": {
            "text/plain": [
              "<Figure size 640x480 with 1 Axes>"
            ],
            "image/png": "[encoded data removed]"
          },
          "metadata": {}
        }
      ]
    },
    {
      "cell_type": "code",
      "source": [
        "from sklearn.linear_model import SGDClassifier"
      ],
      "metadata": {
        "id": "NRhuvC9WpTcm"
      },
      "execution_count": 31,
      "outputs": []
    },
    {
      "cell_type": "code",
      "source": [
        "sgd=SGDClassifier(loss='log_loss',max_iter=100,tol=1e-3,random_state=42)"
      ],
      "metadata": {
        "id": "AiQFuiCPkqGA"
      },
      "execution_count": 34,
      "outputs": []
    },
    {
      "cell_type": "code",
      "source": [
        "sgd.fit(x_train,y_train)\n",
        "sgd.score(x_test,y_test)"
      ],
      "metadata": {
        "colab": {
          "base_uri": "https://localhost:8080/"
        },
        "id": "MHrmXjb-prjm",
        "outputId": "5d58b25c-6df8-4a57-eba2-49d8b9fca377"
      },
      "execution_count": 35,
      "outputs": [
        {
          "output_type": "execute_result",
          "data": {
            "text/plain": [
              "0.8333333333333334"
            ]
          },
          "metadata": {},
          "execution_count": 35
        }
      ]
    },
    {
      "cell_type": "code",
      "source": [
        "sgd.predict(x_test[0:10])"
      ],
      "metadata": {
        "colab": {
          "base_uri": "https://localhost:8080/"
        },
        "id": "-ujRj-8fp0s8",
        "outputId": "11144207-e16f-46bf-f908-80d02922a150"
      },
      "execution_count": 36,
      "outputs": [
        {
          "output_type": "execute_result",
          "data": {
            "text/plain": [
              "array([0, 1, 0, 0, 0, 0, 1, 0, 0, 0])"
            ]
          },
          "metadata": {},
          "execution_count": 36
        }
      ]
    },
    {
      "cell_type": "code",
      "source": [
        "y_test[0:10]"
      ],
      "metadata": {
        "colab": {
          "base_uri": "https://localhost:8080/"
        },
        "id": "gBfSJUZvqdDr",
        "outputId": "c7a52dce-bc1d-4412-d596-e1006b900eae"
      },
      "execution_count": 38,
      "outputs": [
        {
          "output_type": "execute_result",
          "data": {
            "text/plain": [
              "array([0, 1, 0, 1, 0, 1, 1, 0, 0, 0])"
            ]
          },
          "metadata": {},
          "execution_count": 38
        }
      ]
    },
    {
      "cell_type": "code",
      "source": [],
      "metadata": {
        "id": "LzbZkOWBqftE"
      },
      "execution_count": null,
      "outputs": []
    }
  ]
}