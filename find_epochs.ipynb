{
  "nbformat": 4,
  "nbformat_minor": 0,
  "metadata": {
    "colab": {
      "provenance": []
    },
    "kernelspec": {
      "name": "python3",
      "display_name": "Python 3"
    },
    "language_info": {
      "name": "python"
    }
  },
  "cells": [
    {
      "cell_type": "code",
      "source": [
        "import numpy as np"
      ],
      "metadata": {
        "id": "feB2xxsOS8ZN"
      },
      "execution_count": 5,
      "outputs": []
    },
    {
      "cell_type": "code",
      "execution_count": 24,
      "metadata": {
        "id": "8MJqEKxFNBbi"
      },
      "outputs": [],
      "source": [
        "class SingleLayer:\n",
        "  def __init__(self,learning_rate=0.1):\n",
        "    self.w=None\n",
        "    self.b=None\n",
        "    self.losses=[]\n",
        "    self.val_losses=[]\n",
        "    self.w_history=[]\n",
        "    self.lr=learning_rate\n",
        "\n",
        "  def forpass(self,x):\n",
        "    z=np.sum(x*self.w)+self.b\n",
        "    return z\n",
        "\n",
        "  def backprop(self,x,err):\n",
        "    w_grad=x*err\n",
        "    b_grad=1.0*err\n",
        "    return w_grad, b_grad\n",
        "\n",
        "  def add_bias(self,x):\n",
        "    return np.c_[np.ones(x.shape[0],1),x]\n",
        "\n",
        "  def activation(self,z):\n",
        "    a=1/(1+np.exp(-z))\n",
        "    return a\n",
        "\n",
        "  def update_val_loss(self,x_val,y_val):\n",
        "    if x_val is None:\n",
        "      return\n",
        "    val_loss =0\n",
        "    for i in range(len(x_val)):\n",
        "      z=self.forpass(x_val[i])\n",
        "      a=self.activation(z)\n",
        "      a=np.clip(a,1e-10,1-1e-10)\n",
        "      val_loss+=-(y_val[i]*np.log(a)+(1-y_val[i])*(np.log(1-a)))\n",
        "    self.val_losses.append(val_loss/len(y_val))\n",
        "\n",
        "  def fit(self,x,y,epochs=100,x_val=None,y_val=None):\n",
        "    self.w=np.ones(x.shape[1])\n",
        "    self.b=0\n",
        "    self.w_history.append(self.w.copy())\n",
        "    np.random.seed(42)\n",
        "    for i in range(epochs):\n",
        "      loss=0\n",
        "      indexes=np.random.permutation(np.arange(len(x)))\n",
        "      for i in indexes:\n",
        "        z=self.forpass(x[i])\n",
        "        a=self.activation(z)\n",
        "        err=y[i]-a\n",
        "        w_grad,b_grad=self.backprop(x[i],err)\n",
        "        self.w+=self.lr*w_grad\n",
        "        self.b+=b_grad\n",
        "        self.w_history.append(self.w.copy())\n",
        "\n",
        "        a=np.clip(a,1e-10,1-1e-10)\n",
        "        loss-=(y[i]*np.log(a)+(1-y[i])*np.log(1-a))\n",
        "      self.losses.append(loss/len(y))\n",
        "      self.update_val_loss(x_val,y_val)\n",
        "  def predict(self,x):\n",
        "    z=[self.forpass(x_i) for x_i in x]\n",
        "    return np.array(z)>0\n",
        "\n",
        "  def score(self,x,y):\n",
        "     return (np.mean(self.predict(x)==y))"
      ]
    },
    {
      "cell_type": "code",
      "source": [
        "from sklearn.datasets import load_breast_cancer\n",
        "from sklearn.model_selection import train_test_split"
      ],
      "metadata": {
        "id": "Qw1YXXPvSyA3"
      },
      "execution_count": 8,
      "outputs": []
    },
    {
      "cell_type": "code",
      "source": [
        "cancer=load_breast_cancer()\n",
        "x=cancer.data\n",
        "y=cancer.target\n",
        "x_train_all,x_test,y_train_all,y_test=train_test_split(x,y,stratify=y,random_state=42,test_size=0.2)\n",
        "x_train,x_val,y_train,y_val=train_test_split(x_train_all,y_train_all,stratify=y_train_all,random_state=42,test_size=0.2)"
      ],
      "metadata": {
        "id": "rlFqje4-TeHN"
      },
      "execution_count": 9,
      "outputs": []
    },
    {
      "cell_type": "code",
      "source": [
        "train_mean=np.mean(x_train,axis=0)\n",
        "train_std=np.std(x_train,axis=0)\n",
        "x_train_scaled=(x_train-train_mean)/train_std\n",
        "x_val_scaled=(x_val-train_mean)/train_std"
      ],
      "metadata": {
        "id": "xhJoC3FZUKJs"
      },
      "execution_count": 13,
      "outputs": []
    },
    {
      "cell_type": "code",
      "source": [
        "layer3=SingleLayer()\n",
        "layer3.fit(x_train_scaled,y_train,x_val=x_val_scaled,y_val=y_val)\n",
        "layer3.score(x_val_scaled, y_val)"
      ],
      "metadata": {
        "colab": {
          "base_uri": "https://localhost:8080/"
        },
        "id": "jNJBaH6dSb7U",
        "outputId": "675ca76d-10e1-4042-e1e6-ae03554813d8"
      },
      "execution_count": 25,
      "outputs": [
        {
          "output_type": "execute_result",
          "data": {
            "text/plain": [
              "0.967032967032967"
            ]
          },
          "metadata": {},
          "execution_count": 25
        }
      ]
    },
    {
      "cell_type": "code",
      "source": [
        "import matplotlib.pyplot as plt"
      ],
      "metadata": {
        "id": "BKZPzhgfV-4J"
      },
      "execution_count": 21,
      "outputs": []
    },
    {
      "cell_type": "code",
      "source": [
        "plt.ylim(0,0.3)\n",
        "plt.plot(layer3.losses)\n",
        "plt.plot(layer3.val_losses)\n",
        "plt.ylabel('loss')\n",
        "plt.xlabel('epoch')\n",
        "plt.legend(['train_loss','val_loss'])\n",
        "plt.show()"
      ],
      "metadata": {
        "colab": {
          "base_uri": "https://localhost:8080/",
          "height": 455
        },
        "id": "V0S3m5csUUNW",
        "outputId": "3440b965-692b-445a-8bb5-b124754d9874"
      },
      "execution_count": 23,
      "outputs": [
        {
          "output_type": "display_data",
          "data": {
            "text/plain": [
              "<Figure size 640x480 with 1 Axes>"
            ],
            "image/png": "[encoded data removed]"
          },
          "metadata": {}
        }
      ]
    },
    {
      "cell_type": "code",
      "source": [
        "layer4=SingleLayer()\n",
        "layer4.fit(x_train_scaled,y_train,epochs=20)\n",
        "layer4.score(x_val_scaled, y_val)"
      ],
      "metadata": {
        "colab": {
          "base_uri": "https://localhost:8080/"
        },
        "id": "y0umVU_bWYnH",
        "outputId": "53ff1cad-d528-4b23-ab4d-1b17c3c66cdc"
      },
      "execution_count": 26,
      "outputs": [
        {
          "output_type": "execute_result",
          "data": {
            "text/plain": [
              "0.978021978021978"
            ]
          },
          "metadata": {},
          "execution_count": 26
        }
      ]
    },
    {
      "cell_type": "code",
      "source": [],
      "metadata": {
        "id": "evz2tw_GXjha"
      },
      "execution_count": null,
      "outputs": []
    }
  ]
}