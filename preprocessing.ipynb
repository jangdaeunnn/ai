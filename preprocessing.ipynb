{
  "nbformat": 4,
  "nbformat_minor": 0,
  "metadata": {
    "colab": {
      "provenance": []
    },
    "kernelspec": {
      "name": "python3",
      "display_name": "Python 3"
    },
    "language_info": {
      "name": "python"
    }
  },
  "cells": [
    {
      "cell_type": "code",
      "execution_count": 4,
      "metadata": {
        "id": "dB6ZgS7NorMB"
      },
      "outputs": [],
      "source": [
        "from sklearn.datasets import load_breast_cancer\n",
        "from sklearn.model_selection import train_test_split"
      ]
    },
    {
      "cell_type": "code",
      "source": [
        "cancer=load_breast_cancer()\n",
        "x=cancer.data\n",
        "y=cancer.target\n",
        "x_train_all,x_test,y_train_all,y_test=train_test_split(x,y,stratify=y,random_state=42,test_size=0.2)"
      ],
      "metadata": {
        "id": "QZi1StlkrGws"
      },
      "execution_count": 10,
      "outputs": []
    },
    {
      "cell_type": "code",
      "source": [
        "from sklearn.linear_model import SGDClassifier"
      ],
      "metadata": {
        "id": "rygvUe7Cr7II"
      },
      "execution_count": 13,
      "outputs": []
    },
    {
      "cell_type": "code",
      "source": [
        "sgd=SGDClassifier(loss='log_loss',random_state=42)\n",
        "sgd.fit(x_train_all,y_train_all)\n",
        "sgd.score(x_test,y_test)"
      ],
      "metadata": {
        "colab": {
          "base_uri": "https://localhost:8080/"
        },
        "id": "e8ay-KWmsLqR",
        "outputId": "da5740af-0a85-4957-e8fa-9e43c74b0d34"
      },
      "execution_count": 15,
      "outputs": [
        {
          "output_type": "execute_result",
          "data": {
            "text/plain": [
              "0.8333333333333334"
            ]
          },
          "metadata": {},
          "execution_count": 15
        }
      ]
    },
    {
      "cell_type": "markdown",
      "source": [
        "## loss 함수를 다른 값으로 바꾸어보자!"
      ],
      "metadata": {
        "id": "rQ_JOXf5tSZN"
      }
    },
    {
      "cell_type": "code",
      "source": [
        "sgd=SGDClassifier(loss='hinge',random_state=42)\n",
        "sgd.fit(x_train_all,y_train_all)\n",
        "sgd.score(x_test,y_test)"
      ],
      "metadata": {
        "colab": {
          "base_uri": "https://localhost:8080/"
        },
        "id": "GeYHvgHCtGOp",
        "outputId": "9fed4d63-d37b-46de-e2b2-2eaef872f627"
      },
      "execution_count": 16,
      "outputs": [
        {
          "output_type": "execute_result",
          "data": {
            "text/plain": [
              "0.9385964912280702"
            ]
          },
          "metadata": {},
          "execution_count": 16
        }
      ]
    },
    {
      "cell_type": "markdown",
      "source": [
        "## 이렇게 클래스의 다른 매개변수를 바꾸보는 과정을 '모델을 튜닝'한다라고 한다.\n",
        "### 하지만 이렇게 test data로 모델을 튜닝하면 모델의 성능이 좋아지지 않는다.\n",
        "검증 세트를 준비하자!!!"
      ],
      "metadata": {
        "id": "Iz1ZO27utmog"
      }
    },
    {
      "cell_type": "code",
      "source": [
        "x_train, x_val, y_train, y_val=train_test_split(x_train_all,y_train_all,stratify=y_train_all,random_state=42,test_size=0.2)"
      ],
      "metadata": {
        "id": "f18GqRFwtc5L"
      },
      "execution_count": 18,
      "outputs": []
    },
    {
      "cell_type": "code",
      "source": [
        "print(len(x_train),len(x_val))"
      ],
      "metadata": {
        "colab": {
          "base_uri": "https://localhost:8080/"
        },
        "id": "23CW-j1DtaJc",
        "outputId": "34fbb68f-4e9a-457f-f042-7c5556b792ef"
      },
      "execution_count": 19,
      "outputs": [
        {
          "output_type": "stream",
          "name": "stdout",
          "text": [
            "364 91\n"
          ]
        }
      ]
    },
    {
      "cell_type": "code",
      "source": [
        "sgd2=SGDClassifier(loss='log_loss',random_state=42)\n",
        "sgd2.fit(x_train,y_train)\n",
        "sgd2.score(x_val,y_val)"
      ],
      "metadata": {
        "colab": {
          "base_uri": "https://localhost:8080/"
        },
        "id": "2Qtgwv4RuWQw",
        "outputId": "c29f0d9f-0db0-4576-b798-e3c1e500d9b1"
      },
      "execution_count": 20,
      "outputs": [
        {
          "output_type": "execute_result",
          "data": {
            "text/plain": [
              "0.6923076923076923"
            ]
          },
          "metadata": {},
          "execution_count": 20
        }
      ]
    },
    {
      "cell_type": "markdown",
      "source": [
        "### 성능이 많이 떨어졌다 -> 학습 데이터 set이 줄어들어서.\n",
        "#### 이렇게 데이터가 적을 때는 교차검증을 한다. 다음에 배울 예정"
      ],
      "metadata": {
        "id": "8tYU4gMIutPg"
      }
    }
  ]
}